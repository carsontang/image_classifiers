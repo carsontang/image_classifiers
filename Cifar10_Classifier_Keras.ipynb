{
 "cells": [
  {
   "cell_type": "markdown",
   "metadata": {},
   "source": [
    "# Cifar 10 Classifier\n",
    "\n",
    "The goal of this classifier is to establish baseline metrics. The following code can be used to train a German traffic sign classifier. Even though there are 43 classes of German traffic signs and only 10 classes of Cifar10 images, this classifier will perform significantly worse in terms of accuracy. Cifar10 images vary much more greatly than traffic signs. The difference between a ship and a frog is much greater than the difference between a \"70 km/h\" sign and a \"Pedestrians\" sign.\n",
    "\n",
    "Note that the training accuracy is lower than the validation accuracy for the same epoch because the validation accuracy is obtained with the model at the end of an epoch whereas the training accuracy is the running average accuracy during an epoch. In other words, as the model is optimizing loss, it's getting better and better."
   ]
  },
  {
   "cell_type": "markdown",
   "metadata": {},
   "source": [
    "---\n",
    "## Step 0: Load The Data"
   ]
  },
  {
   "cell_type": "code",
   "execution_count": 1,
   "metadata": {},
   "outputs": [
    {
     "name": "stderr",
     "output_type": "stream",
     "text": [
      "Using TensorFlow backend.\n"
     ]
    },
    {
     "name": "stdout",
     "output_type": "stream",
     "text": [
      "Downloading data from http://www.cs.toronto.edu/~kriz/cifar-10-python.tar.gz\n",
      "170450944/170498071 [============================>.] - ETA: 0sLoaded data\n",
      "Number of training examples = 35000\n",
      "Number of validation examples = 15000\n",
      "Number of testing examples = 10000\n",
      "Image data shape = (32, 32, 3)\n",
      "Number of classes = 10\n",
      "Number of image channels = 3\n"
     ]
    }
   ],
   "source": [
    "# Load pickled data\n",
    "import numpy as np\n",
    "import pickle\n",
    "from skimage import color\n",
    "from sklearn.model_selection import train_test_split\n",
    "\n",
    "from keras.datasets import cifar10\n",
    "(X_train, y_train), (X_test, y_test) = cifar10.load_data()\n",
    "# y_train.shape is 2d, (50000, 1). While Keras is smart enough to handle this\n",
    "# it's a good idea to flatten the array.\n",
    "y_train = y_train.reshape(-1)\n",
    "y_test = y_test.reshape(-1)\n",
    "\n",
    "X_train, X_valid, y_train, y_valid = train_test_split(X_train, y_train, test_size=0.3, random_state=42, stratify = y_train)\n",
    "\n",
    "print(\"Loaded data\")\n",
    "\n",
    "# Number of training examples\n",
    "n_train = X_train.shape[0]\n",
    "\n",
    "# Number of validation examples\n",
    "n_validation = X_valid.shape[0]\n",
    "\n",
    "# Number of testing examples.\n",
    "n_test = X_test.shape[0]\n",
    "\n",
    "# What's the shape of an image?\n",
    "image_shape = X_train.shape[1:]\n",
    "\n",
    "# How many unique classes/labels there are in the dataset.\n",
    "n_classes = len(np.unique(y_train))\n",
    "\n",
    "num_image_channels = X_train.shape[-1]\n",
    "\n",
    "print(\"Number of training examples =\", n_train)\n",
    "print(\"Number of validation examples =\", n_validation)\n",
    "print(\"Number of testing examples =\", n_test)\n",
    "print(\"Image data shape =\", image_shape)\n",
    "print(\"Number of classes =\", n_classes)\n",
    "print(\"Number of image channels =\", num_image_channels)"
   ]
  },
  {
   "cell_type": "markdown",
   "metadata": {},
   "source": [
    "# Data preprocessing"
   ]
  },
  {
   "cell_type": "code",
   "execution_count": 2,
   "metadata": {},
   "outputs": [
    {
     "name": "stdout",
     "output_type": "stream",
     "text": [
      "Normalized train, validation, and test datasets.\n"
     ]
    }
   ],
   "source": [
    "X_train = X_train.astype(np.float64)\n",
    "\n",
    "mean_image = np.mean(X_train, axis=0, dtype=np.float64)\n",
    "X_train_stddev = np.std(X_train)\n",
    "\n",
    "X_train -= mean_image\n",
    "X_train /= X_train_stddev\n",
    "\n",
    "X_valid = X_valid.astype(np.float64)\n",
    "X_valid -= mean_image\n",
    "X_valid /= X_train_stddev\n",
    "\n",
    "X_test = X_test.astype(np.float64)\n",
    "X_test -= mean_image\n",
    "X_test /= X_train_stddev\n",
    "\n",
    "print(\"Normalized train, validation, and test datasets.\")"
   ]
  },
  {
   "cell_type": "code",
   "execution_count": 10,
   "metadata": {},
   "outputs": [
    {
     "name": "stdout",
     "output_type": "stream",
     "text": [
      "Train on 35000 samples, validate on 15000 samples\n",
      "Epoch 1/60\n",
      "35000/35000 [==============================] - 1s - loss: 2.1546 - acc: 0.1761 - val_loss: 1.9151 - val_acc: 0.3189\n",
      "Epoch 2/60\n",
      "35000/35000 [==============================] - 2s - loss: 1.8653 - acc: 0.2865 - val_loss: 1.7249 - val_acc: 0.4022\n",
      "Epoch 3/60\n",
      "35000/35000 [==============================] - 1s - loss: 1.7483 - acc: 0.3459 - val_loss: 1.5871 - val_acc: 0.4327\n",
      "Epoch 4/60\n",
      "35000/35000 [==============================] - 1s - loss: 1.6592 - acc: 0.3846 - val_loss: 1.5302 - val_acc: 0.4689\n",
      "Epoch 5/60\n",
      "35000/35000 [==============================] - 1s - loss: 1.5905 - acc: 0.4123 - val_loss: 1.4626 - val_acc: 0.4807\n",
      "Epoch 6/60\n",
      "35000/35000 [==============================] - 1s - loss: 1.5517 - acc: 0.4328 - val_loss: 1.3989 - val_acc: 0.5055\n",
      "Epoch 7/60\n",
      "35000/35000 [==============================] - 2s - loss: 1.5093 - acc: 0.4507 - val_loss: 1.3880 - val_acc: 0.5109\n",
      "Epoch 8/60\n",
      "35000/35000 [==============================] - 2s - loss: 1.4738 - acc: 0.4664 - val_loss: 1.3111 - val_acc: 0.5358\n",
      "Epoch 9/60\n",
      "35000/35000 [==============================] - 2s - loss: 1.4475 - acc: 0.4757 - val_loss: 1.2727 - val_acc: 0.5561\n",
      "Epoch 10/60\n",
      "35000/35000 [==============================] - 2s - loss: 1.4290 - acc: 0.4868 - val_loss: 1.2580 - val_acc: 0.5565\n",
      "Epoch 11/60\n",
      "35000/35000 [==============================] - 2s - loss: 1.4112 - acc: 0.4966 - val_loss: 1.2437 - val_acc: 0.5625\n",
      "Epoch 12/60\n",
      "35000/35000 [==============================] - 2s - loss: 1.3933 - acc: 0.5028 - val_loss: 1.2159 - val_acc: 0.5745\n",
      "Epoch 13/60\n",
      "35000/35000 [==============================] - 2s - loss: 1.3715 - acc: 0.5141 - val_loss: 1.1981 - val_acc: 0.5660\n",
      "Epoch 14/60\n",
      "35000/35000 [==============================] - 2s - loss: 1.3524 - acc: 0.5180 - val_loss: 1.1759 - val_acc: 0.5967\n",
      "Epoch 15/60\n",
      "35000/35000 [==============================] - 2s - loss: 1.3457 - acc: 0.5251 - val_loss: 1.1875 - val_acc: 0.5918\n",
      "Epoch 16/60\n",
      "35000/35000 [==============================] - 2s - loss: 1.3336 - acc: 0.5256 - val_loss: 1.1671 - val_acc: 0.5966\n",
      "Epoch 17/60\n",
      "35000/35000 [==============================] - 2s - loss: 1.3224 - acc: 0.5331 - val_loss: 1.1538 - val_acc: 0.6028\n",
      "Epoch 18/60\n",
      "35000/35000 [==============================] - 2s - loss: 1.3188 - acc: 0.5336 - val_loss: 1.1317 - val_acc: 0.6069\n",
      "Epoch 19/60\n",
      "35000/35000 [==============================] - 2s - loss: 1.3084 - acc: 0.5370 - val_loss: 1.1277 - val_acc: 0.6037\n",
      "Epoch 20/60\n",
      "35000/35000 [==============================] - 2s - loss: 1.2945 - acc: 0.5422 - val_loss: 1.1281 - val_acc: 0.6142\n",
      "Epoch 21/60\n",
      "35000/35000 [==============================] - 2s - loss: 1.2842 - acc: 0.5502 - val_loss: 1.1183 - val_acc: 0.6071\n",
      "Epoch 22/60\n",
      "35000/35000 [==============================] - 2s - loss: 1.2864 - acc: 0.5468 - val_loss: 1.1144 - val_acc: 0.6077\n",
      "Epoch 23/60\n",
      "35000/35000 [==============================] - 2s - loss: 1.2839 - acc: 0.5515 - val_loss: 1.1051 - val_acc: 0.6055\n",
      "Epoch 24/60\n",
      "35000/35000 [==============================] - 2s - loss: 1.2678 - acc: 0.5569 - val_loss: 1.0807 - val_acc: 0.6225\n",
      "Epoch 25/60\n",
      "35000/35000 [==============================] - 1s - loss: 1.2666 - acc: 0.5575 - val_loss: 1.0664 - val_acc: 0.6268\n",
      "Epoch 26/60\n",
      "35000/35000 [==============================] - 1s - loss: 1.2486 - acc: 0.5649 - val_loss: 1.1069 - val_acc: 0.6141\n",
      "Epoch 27/60\n",
      "35000/35000 [==============================] - 1s - loss: 1.2576 - acc: 0.5624 - val_loss: 1.0395 - val_acc: 0.6393\n",
      "Epoch 28/60\n",
      "35000/35000 [==============================] - 1s - loss: 1.2499 - acc: 0.5647 - val_loss: 1.0613 - val_acc: 0.6292\n",
      "Epoch 29/60\n",
      "35000/35000 [==============================] - 1s - loss: 1.2478 - acc: 0.5645 - val_loss: 1.0633 - val_acc: 0.6282\n",
      "Epoch 30/60\n",
      "35000/35000 [==============================] - 1s - loss: 1.2430 - acc: 0.5653 - val_loss: 1.0393 - val_acc: 0.6365\n",
      "Epoch 31/60\n",
      "35000/35000 [==============================] - 1s - loss: 1.2302 - acc: 0.5702 - val_loss: 1.0160 - val_acc: 0.6418\n",
      "Epoch 32/60\n",
      "35000/35000 [==============================] - 1s - loss: 1.2312 - acc: 0.5699 - val_loss: 1.0317 - val_acc: 0.6437\n",
      "Epoch 33/60\n",
      "35000/35000 [==============================] - 1s - loss: 1.2313 - acc: 0.5709 - val_loss: 1.0311 - val_acc: 0.6407\n",
      "Epoch 34/60\n",
      "35000/35000 [==============================] - 1s - loss: 1.2222 - acc: 0.5752 - val_loss: 1.0392 - val_acc: 0.6357\n",
      "Epoch 35/60\n",
      "35000/35000 [==============================] - 1s - loss: 1.2232 - acc: 0.5758 - val_loss: 1.0289 - val_acc: 0.6457\n",
      "Epoch 36/60\n",
      "35000/35000 [==============================] - 1s - loss: 1.2272 - acc: 0.5715 - val_loss: 1.0202 - val_acc: 0.6483\n",
      "Epoch 37/60\n",
      "35000/35000 [==============================] - 1s - loss: 1.2130 - acc: 0.5774 - val_loss: 1.0072 - val_acc: 0.6479\n",
      "Epoch 38/60\n",
      "35000/35000 [==============================] - 2s - loss: 1.2178 - acc: 0.5745 - val_loss: 1.0191 - val_acc: 0.6418\n",
      "Epoch 39/60\n",
      "35000/35000 [==============================] - 2s - loss: 1.2109 - acc: 0.5767 - val_loss: 1.0269 - val_acc: 0.6375\n",
      "Epoch 40/60\n",
      "35000/35000 [==============================] - 2s - loss: 1.2142 - acc: 0.5764 - val_loss: 1.0390 - val_acc: 0.6379\n",
      "Epoch 41/60\n",
      "35000/35000 [==============================] - 2s - loss: 1.1984 - acc: 0.5841 - val_loss: 1.0246 - val_acc: 0.6407\n",
      "Epoch 42/60\n",
      "35000/35000 [==============================] - 2s - loss: 1.2037 - acc: 0.5833 - val_loss: 1.0073 - val_acc: 0.6505\n",
      "Epoch 43/60\n",
      "35000/35000 [==============================] - 2s - loss: 1.1956 - acc: 0.5812 - val_loss: 0.9983 - val_acc: 0.6503\n",
      "Epoch 44/60\n",
      "35000/35000 [==============================] - 2s - loss: 1.2007 - acc: 0.5839 - val_loss: 0.9958 - val_acc: 0.6503\n",
      "Epoch 45/60\n",
      "35000/35000 [==============================] - 2s - loss: 1.1970 - acc: 0.5850 - val_loss: 1.0053 - val_acc: 0.6541\n",
      "Epoch 46/60\n",
      "35000/35000 [==============================] - 2s - loss: 1.1888 - acc: 0.5857 - val_loss: 0.9949 - val_acc: 0.6479\n",
      "Epoch 47/60\n",
      "35000/35000 [==============================] - 1s - loss: 1.1867 - acc: 0.5847 - val_loss: 0.9889 - val_acc: 0.6510\n",
      "Epoch 48/60\n",
      "35000/35000 [==============================] - 1s - loss: 1.1871 - acc: 0.5887 - val_loss: 0.9930 - val_acc: 0.6549\n",
      "Epoch 49/60\n",
      "35000/35000 [==============================] - 1s - loss: 1.1946 - acc: 0.5855 - val_loss: 0.9943 - val_acc: 0.6524\n",
      "Epoch 50/60\n",
      "35000/35000 [==============================] - 1s - loss: 1.1827 - acc: 0.5884 - val_loss: 1.0049 - val_acc: 0.6461\n",
      "Epoch 51/60\n",
      "35000/35000 [==============================] - 1s - loss: 1.1810 - acc: 0.5887 - val_loss: 0.9761 - val_acc: 0.6567\n",
      "Epoch 52/60\n",
      "35000/35000 [==============================] - 1s - loss: 1.1826 - acc: 0.5887 - val_loss: 0.9890 - val_acc: 0.6540\n",
      "Epoch 53/60\n",
      "35000/35000 [==============================] - 2s - loss: 1.1795 - acc: 0.5909 - val_loss: 0.9784 - val_acc: 0.6667\n",
      "Epoch 54/60\n",
      "35000/35000 [==============================] - 2s - loss: 1.1827 - acc: 0.5872 - val_loss: 1.0000 - val_acc: 0.6523\n",
      "Epoch 55/60\n",
      "35000/35000 [==============================] - 2s - loss: 1.1752 - acc: 0.5934 - val_loss: 0.9876 - val_acc: 0.6539\n",
      "Epoch 56/60\n",
      "35000/35000 [==============================] - 1s - loss: 1.1721 - acc: 0.5925 - val_loss: 0.9983 - val_acc: 0.6495\n",
      "Epoch 57/60\n",
      "35000/35000 [==============================] - 2s - loss: 1.1679 - acc: 0.5956 - val_loss: 0.9764 - val_acc: 0.6607\n",
      "Epoch 58/60\n",
      "35000/35000 [==============================] - 2s - loss: 1.1812 - acc: 0.5913 - val_loss: 1.0012 - val_acc: 0.6513\n",
      "Epoch 59/60\n",
      "35000/35000 [==============================] - 1s - loss: 1.1698 - acc: 0.5919 - val_loss: 0.9709 - val_acc: 0.6624\n",
      "Epoch 60/60\n",
      "35000/35000 [==============================] - 1s - loss: 1.1695 - acc: 0.5931 - val_loss: 0.9705 - val_acc: 0.6565\n",
      "Test loss: 0.887701806668\n",
      "Test accuracy: 0.689685714286\n"
     ]
    }
   ],
   "source": [
    "from keras import utils\n",
    "from keras.models import Sequential\n",
    "from keras.layers.core import Dense, Activation, Flatten, Dropout\n",
    "from keras.layers.convolutional import Conv2D\n",
    "from keras.layers.pooling import MaxPooling2D\n",
    "from keras import optimizers\n",
    "from keras import callbacks\n",
    "from sklearn.utils import shuffle\n",
    "\n",
    "epochs = 60\n",
    "droprate = 0.5\n",
    "conv1_nfilters = 12\n",
    "conv2_nfilters = 32\n",
    "fc1_nodes = 120\n",
    "fc2_nodes = 84\n",
    "learning_rate = 0.001\n",
    "activation = 'relu'\n",
    "\n",
    "model = Sequential()\n",
    "model.add(Conv2D(filters=conv1_nfilters, kernel_size=(5, 5), input_shape=(32, 32, 3)))\n",
    "model.add(Activation(activation))\n",
    "model.add(MaxPooling2D((2, 2)))\n",
    "model.add(Dropout(droprate))\n",
    "model.add(Conv2D(filters=conv2_nfilters, kernel_size=(5, 5)))\n",
    "model.add(Activation(activation))\n",
    "model.add(MaxPooling2D((2, 2)))\n",
    "model.add(Dropout(droprate))\n",
    "model.add(Flatten())\n",
    "model.add(Dense(fc1_nodes))\n",
    "model.add(Activation(activation))\n",
    "model.add(Dropout(droprate))\n",
    "model.add(Dense(fc2_nodes))\n",
    "model.add(Activation(activation))\n",
    "model.add(Dropout(droprate))\n",
    "model.add(Dense(n_classes, activation='softmax'))\n",
    "\n",
    "epoch_end = {}\n",
    "epoch_end['train_loss'] = []\n",
    "epoch_end['train_acc'] = []\n",
    "\n",
    "class TrainCallback(callbacks.Callback):\n",
    "    def __init__(self, test_data):\n",
    "        self.test_data = test_data\n",
    "\n",
    "    def on_epoch_end(self, epoch, logs={}):\n",
    "        x, y = self.test_data\n",
    "        loss, acc = self.model.evaluate(x, y, verbose=0)\n",
    "        epoch_end['train_loss'].append(loss)\n",
    "        epoch_end['train_acc'].append(acc)\n",
    "        print('\\nEpoch end loss: {}, acc: {}\\n'.format(loss, acc))\n",
    "        \n",
    "y_one_hot = utils.to_categorical(y_train, n_classes)\n",
    "y_valid_one_hot = utils.to_categorical(y_valid, n_classes)\n",
    "\n",
    "adam = optimizers.Adam(lr=learning_rate, beta_1=0.9, beta_2=0.999, epsilon=1e-08, decay=0.0)\n",
    "model.compile(optimizer=adam, loss='categorical_crossentropy', metrics=['accuracy'])\n",
    "history = model.fit(X_train, y_one_hot, batch_size=128, epochs=epochs, validation_data=(X_valid, y_valid_one_hot))\n",
    "#                    callbacks=[TrainCallback((X_train, y_one_hot))])\n",
    "        \n",
    "score = model.evaluate(X_train, y_one_hot, verbose=0)\n",
    "print('Test loss:', score[0])\n",
    "print('Test accuracy:', score[1])"
   ]
  },
  {
   "cell_type": "code",
   "execution_count": 11,
   "metadata": {},
   "outputs": [
    {
     "data": {
      "text/plain": [
       "<matplotlib.text.Text at 0x7f00792410b8>"
      ]
     },
     "execution_count": 11,
     "metadata": {},
     "output_type": "execute_result"
    },
    {
     "data": {
      "image/png": "[encoded data removed]",
      "text/plain": [
       "<matplotlib.figure.Figure at 0x7f00a464a6d8>"
      ]
     },
     "metadata": {},
     "output_type": "display_data"
    }
   ],
   "source": [
    "import matplotlib.pyplot as plt\n",
    "# Visualizations will be shown in the notebook.\n",
    "%matplotlib inline\n",
    "plt.rcParams['figure.figsize'] = (10.0, 8.0)\n",
    "\n",
    "# Why is training accuracy lower than validation accuracy?\n",
    "# Training accuracy is the average of accuracies of all batches during an epoch.\n",
    "# Validation accuracy is the accuracy of the entire dataset.\n",
    "# See https://keras.io/getting-started/faq/#why-is-the-training-loss-much-higher-than-the-testing-loss\n",
    "plt.plot(history.history['val_acc'], 'o', label='baseline') \n",
    "plt.plot(history.history['acc'], '-', label='baseline') # This is the avg training acc for each batch\n",
    "plt.plot(epoch_end['train_acc'], 'x', label='baseline') # This is the training acc at the end of an epoch.\n",
    "plt.title(\"Training vs Validation Dataset Accuracy\")"
   ]
  },
  {
   "cell_type": "code",
   "execution_count": 12,
   "metadata": {},
   "outputs": [
    {
     "data": {
      "text/plain": [
       "<matplotlib.text.Text at 0x7f00792346a0>"
      ]
     },
     "execution_count": 12,
     "metadata": {},
     "output_type": "execute_result"
    },
    {
     "data": {
      "image/png": "[encoded data removed]",
      "text/plain": [
       "<matplotlib.figure.Figure at 0x7f0088120d30>"
      ]
     },
     "metadata": {},
     "output_type": "display_data"
    }
   ],
   "source": [
    "plt.plot(history.history['val_loss'], 'o', label='baseline')\n",
    "plt.plot(history.history['loss'], '-', label='baseline')\n",
    "plt.plot(epoch_end['train_loss'], 'x', label='baseline')\n",
    "plt.title(\"Training vs Validation Loss\")"
   ]
  },
  {
   "cell_type": "code",
   "execution_count": 13,
   "metadata": {
    "scrolled": true
   },
   "outputs": [
    {
     "name": "stdout",
     "output_type": "stream",
     "text": [
      "Test loss: 0.97154377346\n",
      "Test accuracy: 0.6634\n"
     ]
    }
   ],
   "source": [
    "from keras.models import load_model\n",
    "model.save('model.h5')\n",
    "model = load_model('model.h5')\n",
    "\n",
    "y_test_one_hot = utils.to_categorical(y_test, n_classes)\n",
    "\n",
    "score = model.evaluate(X_test, y_test_one_hot, verbose=0)\n",
    "print('Test loss:', score[0])\n",
    "print('Test accuracy:', score[1])"
   ]
  }
 ],
 "metadata": {
  "anaconda-cloud": {},
  "kernelspec": {
   "display_name": "Python 3",
   "language": "python",
   "name": "python3"
  },
  "language_info": {
   "codemirror_mode": {
    "name": "ipython",
    "version": 3
   },
   "file_extension": ".py",
   "mimetype": "text/x-python",
   "name": "python",
   "nbconvert_exporter": "python",
   "pygments_lexer": "ipython3",
   "version": "3.5.2"
  },
  "widgets": {
   "state": {},
   "version": "1.1.2"
  }
 },
 "nbformat": 4,
 "nbformat_minor": 1
}
