{
 "cells": [
  {
   "cell_type": "markdown",
   "metadata": {},
   "source": [
    "# Cifar 10 Classifier\n",
    "\n",
    "The goal of this classifier is to establish baseline metrics. The following code can be used to train a German traffic sign classifier. Even though there are 43 classes of German traffic signs and only 10 classes of Cifar10 images, this classifier will perform significantly worse in terms of accuracy. Cifar10 images vary much more greatly than traffic signs. The difference between a ship and a frog is much greater than the difference between a \"70 km/h\" sign and a \"Pedestrians\" sign.\n",
    "\n",
    "Note that the training accuracy is lower than the validation accuracy for the same epoch because the validation accuracy is obtained with the model at the end of an epoch whereas the training accuracy is the running average accuracy during an epoch. In other words, as the model is optimizing loss, it's getting better and better."
   ]
  },
  {
   "cell_type": "markdown",
   "metadata": {},
   "source": [
    "---\n",
    "## Step 0: Load The Data"
   ]
  },
  {
   "cell_type": "code",
   "execution_count": 2,
   "metadata": {},
   "outputs": [
    {
     "name": "stdout",
     "output_type": "stream",
     "text": [
      "Loaded data\n",
      "Number of training examples = 35000\n",
      "Number of validation examples = 15000\n",
      "Number of testing examples = 10000\n",
      "Image data shape = (32, 32, 3)\n",
      "Number of classes = 10\n",
      "Number of image channels = 3\n"
     ]
    }
   ],
   "source": [
    "# Load pickled data\n",
    "import numpy as np\n",
    "import pickle\n",
    "from skimage import color\n",
    "from sklearn.model_selection import train_test_split\n",
    "\n",
    "from keras.datasets import cifar10\n",
    "(X_train, y_train), (X_test, y_test) = cifar10.load_data()\n",
    "# y_train.shape is 2d, (50000, 1). While Keras is smart enough to handle this\n",
    "# it's a good idea to flatten the array.\n",
    "y_train = y_train.reshape(-1)\n",
    "y_test = y_test.reshape(-1)\n",
    "\n",
    "X_train, X_valid, y_train, y_valid = train_test_split(X_train, y_train, test_size=0.3, random_state=42, stratify = y_train)\n",
    "\n",
    "print(\"Loaded data\")\n",
    "\n",
    "# Number of training examples\n",
    "n_train = X_train.shape[0]\n",
    "\n",
    "# Number of validation examples\n",
    "n_validation = X_valid.shape[0]\n",
    "\n",
    "# Number of testing examples.\n",
    "n_test = X_test.shape[0]\n",
    "\n",
    "# What's the shape of an image?\n",
    "image_shape = X_train.shape[1:]\n",
    "\n",
    "# How many unique classes/labels there are in the dataset.\n",
    "n_classes = len(np.unique(y_train))\n",
    "\n",
    "num_image_channels = X_train.shape[-1]\n",
    "\n",
    "print(\"Number of training examples =\", n_train)\n",
    "print(\"Number of validation examples =\", n_validation)\n",
    "print(\"Number of testing examples =\", n_test)\n",
    "print(\"Image data shape =\", image_shape)\n",
    "print(\"Number of classes =\", n_classes)\n",
    "print(\"Number of image channels =\", num_image_channels)"
   ]
  },
  {
   "cell_type": "markdown",
   "metadata": {},
   "source": [
    "# Data preprocessing"
   ]
  },
  {
   "cell_type": "code",
   "execution_count": 3,
   "metadata": {},
   "outputs": [
    {
     "name": "stdout",
     "output_type": "stream",
     "text": [
      "Normalized train, validation, and test datasets.\n"
     ]
    }
   ],
   "source": [
    "X_train = X_train.astype(np.float64)\n",
    "\n",
    "mean_image = np.mean(X_train, axis=0, dtype=np.float64)\n",
    "X_train_stddev = np.std(X_train)\n",
    "\n",
    "X_train -= mean_image\n",
    "X_train /= X_train_stddev\n",
    "\n",
    "X_valid = X_valid.astype(np.float64)\n",
    "X_valid -= mean_image\n",
    "X_valid /= X_train_stddev\n",
    "\n",
    "X_test = X_test.astype(np.float64)\n",
    "X_test -= mean_image\n",
    "X_test /= X_train_stddev\n",
    "\n",
    "print(\"Normalized train, validation, and test datasets.\")"
   ]
  },
  {
   "cell_type": "code",
   "execution_count": null,
   "metadata": {},
   "outputs": [
    {
     "name": "stdout",
     "output_type": "stream",
     "text": [
      "Train on 35000 samples, validate on 15000 samples\n",
      "Epoch 1/10\n",
      "35000/35000 [==============================] - 30s - loss: 2.1395 - acc: 0.1861 - val_loss: 1.9039 - val_acc: 0.3349\n",
      "Epoch 2/10\n",
      "35000/35000 [==============================] - 30s - loss: 1.8254 - acc: 0.3095 - val_loss: 1.6744 - val_acc: 0.4077\n",
      "Epoch 3/10\n",
      "35000/35000 [==============================] - 30s - loss: 1.7020 - acc: 0.3624 - val_loss: 1.5823 - val_acc: 0.4308\n",
      "Epoch 4/10\n",
      "35000/35000 [==============================] - 30s - loss: 1.6244 - acc: 0.4013 - val_loss: 1.5407 - val_acc: 0.4484\n",
      "Epoch 5/10\n",
      "35000/35000 [==============================] - 29s - loss: 1.5693 - acc: 0.4267 - val_loss: 1.4122 - val_acc: 0.4938\n",
      "Epoch 6/10\n",
      "35000/35000 [==============================] - 29s - loss: 1.5329 - acc: 0.4404 - val_loss: 1.4020 - val_acc: 0.5028\n",
      "Epoch 7/10\n",
      "35000/35000 [==============================] - 16711s - loss: 1.4972 - acc: 0.4565 - val_loss: 1.3428 - val_acc: 0.5203\n",
      "Epoch 8/10\n",
      "35000/35000 [==============================] - 28s - loss: 1.4664 - acc: 0.4728 - val_loss: 1.2931 - val_acc: 0.5376\n",
      "Epoch 9/10\n",
      "30592/35000 [=========================>....] - ETA: 3s - loss: 1.4401 - acc: 0.4817"
     ]
    }
   ],
   "source": [
    "from keras import utils\n",
    "from keras.models import Sequential\n",
    "from keras.layers.core import Dense, Activation, Flatten, Dropout\n",
    "from keras.layers.convolutional import Conv2D\n",
    "from keras.layers.pooling import MaxPooling2D\n",
    "from keras import optimizers\n",
    "from keras import callbacks\n",
    "from sklearn.utils import shuffle\n",
    "\n",
    "epochs = 10\n",
    "droprate = 0.5\n",
    "conv1_nfilters = 12\n",
    "conv2_nfilters = 32\n",
    "fc1_nodes = 120\n",
    "fc2_nodes = 84\n",
    "activation = 'relu'\n",
    "\n",
    "model = Sequential()\n",
    "model.add(Conv2D(filters=conv1_nfilters, kernel_size=(5, 5), input_shape=(32, 32, 3)))\n",
    "model.add(Activation(activation))\n",
    "model.add(MaxPooling2D((2, 2)))\n",
    "model.add(Dropout(droprate))\n",
    "model.add(Conv2D(filters=conv2_nfilters, kernel_size=(5, 5)))\n",
    "model.add(Activation(activation))\n",
    "model.add(MaxPooling2D((2, 2)))\n",
    "model.add(Dropout(droprate))\n",
    "model.add(Flatten())\n",
    "model.add(Dense(fc1_nodes))\n",
    "model.add(Activation(activation))\n",
    "model.add(Dropout(droprate))\n",
    "model.add(Dense(fc2_nodes))\n",
    "model.add(Activation(activation))\n",
    "model.add(Dropout(droprate))\n",
    "model.add(Dense(n_classes, activation='softmax'))\n",
    "\n",
    "epoch_end = {}\n",
    "epoch_end['train_loss'] = []\n",
    "epoch_end['train_acc'] = []\n",
    "\n",
    "class TrainCallback(callbacks.Callback):\n",
    "    def __init__(self, test_data):\n",
    "        self.test_data = test_data\n",
    "\n",
    "    def on_epoch_end(self, epoch, logs={}):\n",
    "        x, y = self.test_data\n",
    "        loss, acc = self.model.evaluate(x, y, verbose=0)\n",
    "        epoch_end['train_loss'].append(loss)\n",
    "        epoch_end['train_acc'].append(acc)\n",
    "        print('\\nEpoch end loss: {}, acc: {}\\n'.format(loss, acc))\n",
    "        \n",
    "y_one_hot = utils.to_categorical(y_train, n_classes)\n",
    "y_valid_one_hot = utils.to_categorical(y_valid, n_classes)\n",
    "\n",
    "adam = optimizers.Adam(lr=0.001, beta_1=0.9, beta_2=0.999, epsilon=1e-08, decay=0.0)\n",
    "model.compile(optimizer=adam, loss='categorical_crossentropy', metrics=['accuracy'])\n",
    "history = model.fit(X_train, y_one_hot, batch_size=128, epochs=epochs, validation_data=(X_valid, y_valid_one_hot))\n",
    "#                    callbacks=[TrainCallback((X_train, y_one_hot))])\n",
    "        \n",
    "score = model.evaluate(X_train, y_one_hot, verbose=0)\n",
    "print('Test loss:', score[0])\n",
    "print('Test accuracy:', score[1])"
   ]
  },
  {
   "cell_type": "code",
   "execution_count": 7,
   "metadata": {},
   "outputs": [
    {
     "data": {
      "text/plain": [
       "<matplotlib.text.Text at 0x122e122b0>"
      ]
     },
     "execution_count": 7,
     "metadata": {},
     "output_type": "execute_result"
    },
    {
     "data": {
      "image/png": "[encoded data removed]",
      "text/plain": [
       "<matplotlib.figure.Figure at 0x13161aef0>"
      ]
     },
     "metadata": {},
     "output_type": "display_data"
    }
   ],
   "source": [
    "import matplotlib.pyplot as plt\n",
    "# Visualizations will be shown in the notebook.\n",
    "%matplotlib inline\n",
    "plt.rcParams['figure.figsize'] = (10.0, 8.0)\n",
    "\n",
    "# Why is training accuracy lower than validation accuracy?\n",
    "# Training accuracy is the average of accuracies of all batches during an epoch.\n",
    "# Validation accuracy is the accuracy of the entire dataset.\n",
    "# See https://keras.io/getting-started/faq/#why-is-the-training-loss-much-higher-than-the-testing-loss\n",
    "plt.plot(history.history['val_acc'], 'o', label='baseline') \n",
    "plt.plot(history.history['acc'], '-', label='baseline') # This is the avg training acc for each batch\n",
    "plt.plot(epoch_end['train_acc'], 'x', label='baseline') # This is the training acc at the end of an epoch.\n",
    "plt.title(\"Training vs Validation Dataset Accuracy\")"
   ]
  },
  {
   "cell_type": "code",
   "execution_count": 34,
   "metadata": {},
   "outputs": [
    {
     "data": {
      "text/plain": [
       "<matplotlib.text.Text at 0x7f9df9cc1eb8>"
      ]
     },
     "execution_count": 34,
     "metadata": {},
     "output_type": "execute_result"
    },
    {
     "data": {
      "image/png": "[encoded data removed]",
      "text/plain": [
       "<matplotlib.figure.Figure at 0x7f9dfb546d30>"
      ]
     },
     "metadata": {},
     "output_type": "display_data"
    }
   ],
   "source": [
    "plt.plot(history.history['val_loss'], 'o', label='baseline')\n",
    "plt.plot(history.history['loss'], '-', label='baseline')\n",
    "plt.plot(epoch_end['train_loss'], 'x', label='baseline')\n",
    "plt.title(\"Training vs Validation Loss\")"
   ]
  },
  {
   "cell_type": "code",
   "execution_count": 5,
   "metadata": {
    "scrolled": true
   },
   "outputs": [
    {
     "name": "stdout",
     "output_type": "stream",
     "text": [
      "Test loss: 0.512417858344\n",
      "Test accuracy: 0.852969121178\n",
      "Custom set loss: 5.58885097504\n",
      "Custome set accuracy: 0.40000000596\n"
     ]
    }
   ],
   "source": [
    "from keras.models import load_model\n",
    "model.save('model.h5')\n",
    "model = load_model('model.h5')\n",
    "\n",
    "X_test2 = np.array([mpimg.imread(filename) for filename in test_files])\n",
    "y_test2 = np.array([4, 27, 30, 12, 9])\n",
    "\n",
    "y_test_one_hot = utils.to_categorical(y_test, n_classes)\n",
    "y_test2_one_hot = utils.to_categorical(y_test2, n_classes)\n",
    "\n",
    "score = model.evaluate(X_test, y_test_one_hot, verbose=0)\n",
    "print('Test loss:', score[0])\n",
    "print('Test accuracy:', score[1])\n",
    "\n",
    "score = model.evaluate(X_test2, y_test2_one_hot, verbose=0)\n",
    "print('Custom set loss:', score[0])\n",
    "print('Custome set accuracy:', score[1])"
   ]
  },
  {
   "cell_type": "markdown",
   "metadata": {},
   "source": [
    "---\n",
    "\n",
    "## Step 4 (Optional): Visualize the Neural Network's State with Test Images\n",
    "\n",
    " This Section is not required to complete but acts as an additional excersise for understaning the output of a neural network's weights. While neural networks can be a great learning device they are often referred to as a black box. We can understand what the weights of a neural network look like better by plotting their feature maps. After successfully training your neural network you can see what it's feature maps look like by plotting the output of the network's weight layers in response to a test stimuli image. From these plotted feature maps, it's possible to see what characteristics of an image the network finds interesting. For a sign, maybe the inner network feature maps react with high activation to the sign's boundary outline or to the contrast in the sign's painted symbol.\n",
    "\n",
    " Provided for you below is the function code that allows you to get the visualization output of any tensorflow weight layer you want. The inputs to the function should be a stimuli image, one used during training or a new one you provided, and then the tensorflow variable name that represents the layer's state during the training process, for instance if you wanted to see what the [LeNet lab's](https://classroom.udacity.com/nanodegrees/nd013/parts/fbf77062-5703-404e-b60c-95b78b2f3f9e/modules/6df7ae49-c61c-4bb2-a23e-6527e69209ec/lessons/601ae704-1035-4287-8b11-e2c2716217ad/concepts/d4aca031-508f-4e0b-b493-e7b706120f81) feature maps looked like for it's second convolutional layer you could enter conv2 as the tf_activation variable.\n",
    "\n",
    "For an example of what feature map outputs look like, check out NVIDIA's results in their paper [End-to-End Deep Learning for Self-Driving Cars](https://devblogs.nvidia.com/parallelforall/deep-learning-self-driving-cars/) in the section Visualization of internal CNN State. NVIDIA was able to show that their network's inner weights had high activations to road boundary lines by comparing feature maps from an image with a clear path to one without. Try experimenting with a similar test to show that your trained network's weights are looking for interesting features, whether it's looking at differences in feature maps from images with or without a sign, or even what feature maps look like in a trained network vs a completely untrained one on the same sign image.\n",
    "\n",
    "<figure>\n",
    " <img src=\"visualize_cnn.png\" width=\"380\" alt=\"Combined Image\" />\n",
    " <figcaption>\n",
    " <p></p> \n",
    " <p style=\"text-align: center;\"> Your output should look something like this (above)</p> \n",
    " </figcaption>\n",
    "</figure>\n",
    " <p></p> \n"
   ]
  },
  {
   "cell_type": "code",
   "execution_count": null,
   "metadata": {
    "collapsed": true
   },
   "outputs": [],
   "source": [
    "### Visualize your network's feature maps here.\n",
    "### Feel free to use as many code cells as needed.\n",
    "\n",
    "# image_input: the test image being fed into the network to produce the feature maps\n",
    "# tf_activation: should be a tf variable name used during your training procedure that represents the calculated state of a specific weight layer\n",
    "# activation_min/max: can be used to view the activation contrast in more detail, by default matplot sets min and max to the actual min and max values of the output\n",
    "# plt_num: used to plot out multiple different weight feature map sets on the same block, just extend the plt number for each new feature map entry\n",
    "\n",
    "def outputFeatureMap(image_input, tf_activation, activation_min=-1, activation_max=-1 ,plt_num=1):\n",
    "    # Here make sure to preprocess your image_input in a way your network expects\n",
    "    # with size, normalization, ect if needed\n",
    "    # image_input =\n",
    "    # Note: x should be the same name as your network's tensorflow data placeholder variable\n",
    "    # If you get an error tf_activation is not defined it may be having trouble accessing the variable from inside a function\n",
    "    activation = tf_activation.eval(session=sess,feed_dict={x : image_input})\n",
    "    featuremaps = activation.shape[3]\n",
    "    plt.figure(plt_num, figsize=(15,15))\n",
    "    for featuremap in range(featuremaps):\n",
    "        plt.subplot(6,8, featuremap+1) # sets the number of feature maps to show on each row and column\n",
    "        plt.title('FeatureMap ' + str(featuremap)) # displays the feature map number\n",
    "        if activation_min != -1 & activation_max != -1:\n",
    "            plt.imshow(activation[0,:,:, featuremap], interpolation=\"nearest\", vmin =activation_min, vmax=activation_max, cmap=\"gray\")\n",
    "        elif activation_max != -1:\n",
    "            plt.imshow(activation[0,:,:, featuremap], interpolation=\"nearest\", vmax=activation_max, cmap=\"gray\")\n",
    "        elif activation_min !=-1:\n",
    "            plt.imshow(activation[0,:,:, featuremap], interpolation=\"nearest\", vmin=activation_min, cmap=\"gray\")\n",
    "        else:\n",
    "            plt.imshow(activation[0,:,:, featuremap], interpolation=\"nearest\", cmap=\"gray\")"
   ]
  }
 ],
 "metadata": {
  "anaconda-cloud": {},
  "kernelspec": {
   "display_name": "Python 3",
   "language": "python",
   "name": "python3"
  },
  "language_info": {
   "codemirror_mode": {
    "name": "ipython",
    "version": 3
   },
   "file_extension": ".py",
   "mimetype": "text/x-python",
   "name": "python",
   "nbconvert_exporter": "python",
   "pygments_lexer": "ipython3",
   "version": "3.5.2"
  },
  "widgets": {
   "state": {},
   "version": "1.1.2"
  }
 },
 "nbformat": 4,
 "nbformat_minor": 1
}
